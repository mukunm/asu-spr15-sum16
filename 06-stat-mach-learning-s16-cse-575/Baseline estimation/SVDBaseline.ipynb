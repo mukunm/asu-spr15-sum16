{
 "cells": [
  {
   "cell_type": "markdown",
   "metadata": {},
   "source": [
    "# SVD Baseline Approximation"
   ]
  },
  {
   "cell_type": "code",
   "execution_count": 1,
   "metadata": {
    "collapsed": false
   },
   "outputs": [
    {
     "name": "stdout",
     "output_type": "stream",
     "text": [
      "150819\n",
      "37705\n"
     ]
    }
   ],
   "source": [
    "import csv\n",
    "import pandas as pd\n",
    "import numpy as np\n",
    "from sklearn.cross_validation import train_test_split\n",
    "df = pd.read_csv('..\\Data\\Input\\Phx_Rating.csv')\n",
    "train, test = train_test_split(df, test_size = 0.2)\n",
    "print len(train)\n",
    "print len(test)"
   ]
  },
  {
   "cell_type": "markdown",
   "metadata": {
    "collapsed": false
   },
   "source": [
    "#### Creating dictionaries of restaurants and users"
   ]
  },
  {
   "cell_type": "code",
   "execution_count": 2,
   "metadata": {
    "collapsed": false
   },
   "outputs": [],
   "source": [
    "restr_dict = {}\n",
    "user_dict = {}\n",
    "rest_cnt = 0\n",
    "user_cnt = 0\n",
    "for index, row in train.iterrows():\n",
    "    if row[0] not in user_dict:        \n",
    "        user_dict[row[0]] = user_cnt\n",
    "        user_cnt = user_cnt + 1\n",
    "    if row[2] not in restr_dict:        \n",
    "        restr_dict[row[2]] = rest_cnt\n",
    "        rest_cnt = rest_cnt + 1"
   ]
  },
  {
   "cell_type": "code",
   "execution_count": 3,
   "metadata": {
    "collapsed": false
   },
   "outputs": [
    {
     "name": "stdout",
     "output_type": "stream",
     "text": [
      "56677\n",
      "2915\n"
     ]
    }
   ],
   "source": [
    "print user_cnt\n",
    "print rest_cnt"
   ]
  },
  {
   "cell_type": "markdown",
   "metadata": {
    "collapsed": false
   },
   "source": [
    "#### Creating a numpy matrix"
   ]
  },
  {
   "cell_type": "code",
   "execution_count": 4,
   "metadata": {
    "collapsed": false
   },
   "outputs": [
    {
     "name": "stdout",
     "output_type": "stream",
     "text": [
      "(56677L, 2915L)\n"
     ]
    }
   ],
   "source": [
    "users_restr = np.zeros((int(len(user_dict)),int(len(restr_dict))))\n",
    "print users_restr.shape"
   ]
  },
  {
   "cell_type": "code",
   "execution_count": 5,
   "metadata": {
    "collapsed": true
   },
   "outputs": [],
   "source": [
    "for index, row in train.iterrows():\n",
    "    try:\n",
    "        users_restr[int(user_dict[row[0]]) , int(restr_dict[row[2]])] = row[3]\n",
    "    except Exception as e:\n",
    "        print e\n",
    "        continue"
   ]
  },
  {
   "cell_type": "markdown",
   "metadata": {},
   "source": [
    "#### Getting avg stars for each restaurant to make data dense"
   ]
  },
  {
   "cell_type": "code",
   "execution_count": 6,
   "metadata": {
    "collapsed": false
   },
   "outputs": [],
   "source": [
    "phx_business = open('..\\Data\\Input\\Restaurants_Phoenix.csv')\n",
    "phx_csv = csv.reader(phx_business)\n",
    "phx_data = list(phx_csv)\n",
    "r_avg_dict = {}\n",
    "header = True\n",
    "i = 1\n",
    "while i < len(phx_data):    \n",
    "    avg_rat = phx_data[i][61]    \n",
    "    b_id = phx_data[i][15]    \n",
    "    r_avg_dict[b_id] = float(avg_rat)\n",
    "    i = i + 1"
   ]
  },
  {
   "cell_type": "code",
   "execution_count": 7,
   "metadata": {
    "collapsed": false
   },
   "outputs": [
    {
     "name": "stdout",
     "output_type": "stream",
     "text": [
      "2925\n"
     ]
    }
   ],
   "source": [
    "print len(r_avg_dict)"
   ]
  },
  {
   "cell_type": "markdown",
   "metadata": {},
   "source": [
    "#### Replacing every 0 entry with restaurant average"
   ]
  },
  {
   "cell_type": "code",
   "execution_count": 8,
   "metadata": {
    "collapsed": false
   },
   "outputs": [],
   "source": [
    "for key in restr_dict:\n",
    "    i = 0\n",
    "    while i < user_cnt:\n",
    "        if users_restr[i][restr_dict[key]] == 0:\n",
    "            users_restr[i][restr_dict[key]] = r_avg_dict[key]\n",
    "        i = i + 1"
   ]
  },
  {
   "cell_type": "markdown",
   "metadata": {},
   "source": [
    "#### Finding avg user rating"
   ]
  },
  {
   "cell_type": "code",
   "execution_count": 9,
   "metadata": {
    "collapsed": false
   },
   "outputs": [],
   "source": [
    "u_avg_rat = {}\n",
    "# dict in the form of ['userid',(no. of reviews by the user, sum of all ratings)]\n",
    "\n",
    "for index, row in train.iterrows(): \n",
    "    if row[0] not in u_avg_rat:\n",
    "        u_avg_rat[row[0]] = (1 , int(row[3]))\n",
    "    else:\n",
    "        tup = u_avg_rat[row[0]]\n",
    "        new_tup = (tup[0] + 1 , tup[1] + int(row[3]))\n",
    "        u_avg_rat[row[0]] = new_tup"
   ]
  },
  {
   "cell_type": "code",
   "execution_count": 10,
   "metadata": {
    "collapsed": false
   },
   "outputs": [
    {
     "name": "stdout",
     "output_type": "stream",
     "text": [
      "Total no. of unique users = 56677\n"
     ]
    }
   ],
   "source": [
    "print \"Total no. of unique users = %d\" % len(u_avg_rat)\n",
    "#print u_avg_rat['t95D1tnWvAOy2sxXnI3GUA']"
   ]
  },
  {
   "cell_type": "markdown",
   "metadata": {},
   "source": [
    "#### Normalizing each element in the matrix by subtracting from avg user rating"
   ]
  },
  {
   "cell_type": "code",
   "execution_count": 11,
   "metadata": {
    "collapsed": false
   },
   "outputs": [],
   "source": [
    "for key in user_dict:\n",
    "    i = 0\n",
    "    pos = user_dict[key]\n",
    "    tup = u_avg_rat[key]\n",
    "    user_avg_rating = tup[1] / tup[0]\n",
    "    while i < rest_cnt:\n",
    "        users_restr[pos][i] -= user_avg_rating            \n",
    "        i = i + 1"
   ]
  },
  {
   "cell_type": "markdown",
   "metadata": {},
   "source": [
    "#### Finally calculating the SVD"
   ]
  },
  {
   "cell_type": "code",
   "execution_count": 12,
   "metadata": {
    "collapsed": false
   },
   "outputs": [],
   "source": [
    "U, s, V = np.linalg.svd(users_restr, full_matrices=False)"
   ]
  },
  {
   "cell_type": "code",
   "execution_count": 13,
   "metadata": {
    "collapsed": false
   },
   "outputs": [
    {
     "name": "stdout",
     "output_type": "stream",
     "text": [
      "(56677L, 2915L)\n",
      "(2915L,)\n",
      "(2915L, 2915L)\n"
     ]
    }
   ],
   "source": [
    "print U.shape\n",
    "print s.shape\n",
    "print V.shape"
   ]
  },
  {
   "cell_type": "code",
   "execution_count": 14,
   "metadata": {
    "collapsed": false
   },
   "outputs": [
    {
     "name": "stdout",
     "output_type": "stream",
     "text": [
      "(2915L, 2915L)\n"
     ]
    }
   ],
   "source": [
    "S = np.diag(s)\n",
    "print S.shape"
   ]
  },
  {
   "cell_type": "markdown",
   "metadata": {},
   "source": [
    "### Reducing to top k dimensions for a list of k values"
   ]
  },
  {
   "cell_type": "code",
   "execution_count": 19,
   "metadata": {
    "collapsed": true
   },
   "outputs": [],
   "source": [
    "kvals = list(range(2,21))\n",
    "kvals.append(25)\n",
    "kvals.append(50)\n",
    "kvals.append(100)\n",
    "kvals.append(150)\n",
    "kvals.append(200)\n",
    "kvals.append(250)"
   ]
  },
  {
   "cell_type": "markdown",
   "metadata": {},
   "source": [
    "#### Predicting and calculating error"
   ]
  },
  {
   "cell_type": "code",
   "execution_count": 20,
   "metadata": {
    "collapsed": false
   },
   "outputs": [],
   "source": [
    "all_rmse = []\n",
    "all_mae = []\n",
    "for DIM in kvals:\n",
    "    U1 = U[:, :DIM]\n",
    "    S1 = S[:DIM, :DIM]\n",
    "    V1 = V.T[:, :DIM].T\n",
    "    S12 = np.sqrt(S1)\n",
    "    A1 = np.dot(U1,S12)\n",
    "    A2 = np.dot(S12,V1)\n",
    "    meancnt = 0\n",
    "    mae_par = 0\n",
    "    rmse_par = 0\n",
    "    for index, row in test.iterrows(): \n",
    "        if row[0] in user_dict and row[2] in restr_dict:\n",
    "            meancnt += 1\n",
    "            actual = float(row[3])\n",
    "            pred = np.dot(A1[user_dict[row[0]],:] , A2[:,restr_dict[row[2]]])\n",
    "            tup = u_avg_rat[row[0]]\n",
    "            tup_avg = tup[1] / tup[0]\n",
    "            pred += tup_avg\n",
    "            rmse_par += (pred - actual) ** 2\n",
    "            mae_par += abs(pred - actual)\n",
    "    all_rmse.append((rmse_par / meancnt) ** 0.5)\n",
    "    all_mae.append(mae_par / meancnt)"
   ]
  },
  {
   "cell_type": "markdown",
   "metadata": {},
   "source": [
    "#### Printing out the errors, we get a min RMSE ~ 1.137153 and min MAE ~ 0.887598 for k = 2, but this varies very slighly in different executions for different training and test sets"
   ]
  },
  {
   "cell_type": "code",
   "execution_count": 21,
   "metadata": {
    "collapsed": false
   },
   "outputs": [
    {
     "name": "stdout",
     "output_type": "stream",
     "text": [
      "[1.13734721071971, 1.1371531267082275, 1.137536172720097, 1.1374105002400545, 1.1373797475187883, 1.1376014285197098, 1.1374572558257414, 1.1373358438153176, 1.137229848733692, 1.1373127672712628, 1.1375047274775532, 1.1375975358069079, 1.1376604290794305, 1.1378787305466453, 1.1377394048516249, 1.137793780817637, 1.1378112087202208, 1.1380886770970926, 1.1381295377073337, 1.1381269476228995, 1.138257780563511, 1.1398012541675957, 1.1402455368876931, 1.1412048896852567, 1.1422552907706722]\n",
      "[0.8878277721492579, 0.88759758966200153, 0.88770373875300435, 0.88769523623711755, 0.88770045844796519, 0.88786355695447561, 0.8878205249044484, 0.88763121014548718, 0.88766547185046929, 0.88766527919840044, 0.88779532909215653, 0.88780313544996858, 0.88775470760332098, 0.88784353676848027, 0.88797024462408736, 0.88808920568773408, 0.88812505189593816, 0.88840730338189211, 0.88845578416607573, 0.88846411549236826, 0.88821214882919963, 0.887848417182029, 0.88739440211794873, 0.88730115339315352, 0.88744099480867689]\n",
      "1.13715312671\n",
      "0.887301153393\n"
     ]
    }
   ],
   "source": [
    "print all_rmse\n",
    "print all_mae\n",
    "print min(all_rmse)\n",
    "print min(all_mae)"
   ]
  },
  {
   "cell_type": "markdown",
   "metadata": {},
   "source": [
    "#### Plotting the k values v/s the MAE and RMSE. k = [ 2-21, 25, 50, 100, 150, 200, 250]"
   ]
  },
  {
   "cell_type": "code",
   "execution_count": 22,
   "metadata": {
    "collapsed": false
   },
   "outputs": [
    {
     "data": {
      "image/png": "[encoded data removed]",
      "text/plain": [
       "<matplotlib.figure.Figure at 0x1b6e0128>"
      ]
     },
     "metadata": {},
     "output_type": "display_data"
    }
   ],
   "source": [
    "%matplotlib inline\n",
    "import matplotlib.patches as mpatches\n",
    "import matplotlib.pyplot as plt\n",
    "plt.plot(kvals , all_rmse, 'ro', kvals , all_mae, 'bo')\n",
    "plt.xlabel('k-vals')\n",
    "plt.ylabel('Error')\n",
    "red_patch = mpatches.Patch(color='red', label='RMSE')\n",
    "blue_patch = mpatches.Patch(color='blue', label='MAE')\n",
    "plt.legend(handles=[red_patch,blue_patch])\n",
    "plt.title('Error as a function of k values')\n",
    "plt.show()"
   ]
  },
  {
   "cell_type": "code",
   "execution_count": null,
   "metadata": {
    "collapsed": true
   },
   "outputs": [],
   "source": []
  }
 ],
 "metadata": {
  "kernelspec": {
   "display_name": "Python 2",
   "language": "python",
   "name": "python2"
  },
  "language_info": {
   "codemirror_mode": {
    "name": "ipython",
    "version": 2
   },
   "file_extension": ".py",
   "mimetype": "text/x-python",
   "name": "python",
   "nbconvert_exporter": "python",
   "pygments_lexer": "ipython2",
   "version": "2.7.11"
  }
 },
 "nbformat": 4,
 "nbformat_minor": 0
}
