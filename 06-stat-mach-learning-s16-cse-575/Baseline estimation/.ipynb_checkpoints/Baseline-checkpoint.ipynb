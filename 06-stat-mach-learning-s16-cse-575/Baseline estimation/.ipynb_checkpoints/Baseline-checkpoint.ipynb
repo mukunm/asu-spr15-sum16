{
 "cells": [
  {
   "cell_type": "code",
   "execution_count": 1,
   "metadata": {
    "collapsed": false
   },
   "outputs": [
    {
     "name": "stderr",
     "output_type": "stream",
     "text": [
      "C:\\Users\\yousuf-sap\\Anaconda\\lib\\site-packages\\ipykernel\\__main__.py:9: DeprecationWarning: the sets module is deprecated\n"
     ]
    }
   ],
   "source": [
    "# Baseline estimation\n",
    "# Ruf = mu + Bu + Bf, where\n",
    "# Ruf = Predicted restaurant rating for restaurant f by user u\n",
    "# mu = The rating of the avg restaurant review (in Phoenix)\n",
    "# Bu = User u's avg rating - mu\n",
    "# Bf = Avg. rating for restaurant f - mu\n",
    "\n",
    "import csv\n",
    "from sets import Set\n",
    "\n",
    "# 1. Preparing data\n",
    "\n",
    "phx_business = open('..\\Data\\Input\\phx.csv')\n",
    "phx_csv = csv.reader(phx_business)\n",
    "phx_data = list(phx_csv)\n",
    "phx_b_ids = Set([])\n",
    "\n",
    "# Storing business ids of Phx restaurants in a list\n",
    "i = 0\n",
    "while i < len(phx_data):\n",
    "    phx_b_ids.add(phx_data[i][15])\n",
    "    i = i + 1"
   ]
  },
  {
   "cell_type": "code",
   "execution_count": 2,
   "metadata": {
    "collapsed": false
   },
   "outputs": [],
   "source": [
    "# 2. Separating review data created - into training and test set\n",
    "import pandas as pd\n",
    "import numpy as np\n",
    "from sklearn.cross_validation import train_test_split\n",
    "\n",
    "df = pd.read_csv('..\\Data\\Input\\Phx_Rating.csv')\n",
    "train, test = train_test_split(df, test_size = 0.2)"
   ]
  },
  {
   "cell_type": "code",
   "execution_count": 3,
   "metadata": {
    "collapsed": false
   },
   "outputs": [
    {
     "name": "stdout",
     "output_type": "stream",
     "text": [
      "150819\n",
      "37705\n"
     ]
    }
   ],
   "source": [
    "#We have a 80/20 training to test set ratio\n",
    "print len(train)\n",
    "print len(test)"
   ]
  },
  {
   "cell_type": "code",
   "execution_count": 8,
   "metadata": {
    "collapsed": false
   },
   "outputs": [
    {
     "data": {
      "text/html": [
       "<div>\n",
       "<table border=\"1\" class=\"dataframe\">\n",
       "  <thead>\n",
       "    <tr style=\"text-align: right;\">\n",
       "      <th></th>\n",
       "      <th>user_id</th>\n",
       "      <th>review_id</th>\n",
       "      <th>business_id</th>\n",
       "      <th>stars</th>\n",
       "    </tr>\n",
       "  </thead>\n",
       "  <tbody>\n",
       "    <tr>\n",
       "      <th>109944</th>\n",
       "      <td>xeEzA63SazODlR6qsf81uw</td>\n",
       "      <td>_oShmRlICA_rGR8hRM8cvg</td>\n",
       "      <td>VY_tvNUCCXGXQeSvJl757Q</td>\n",
       "      <td>4</td>\n",
       "    </tr>\n",
       "    <tr>\n",
       "      <th>100066</th>\n",
       "      <td>tSX0aSxqVbQJHsEQswcBgA</td>\n",
       "      <td>zcozfkF_XvCeFAcfh1GYIw</td>\n",
       "      <td>6L9McpPjh3UzZxvR1cf1Lw</td>\n",
       "      <td>5</td>\n",
       "    </tr>\n",
       "    <tr>\n",
       "      <th>62586</th>\n",
       "      <td>JIHbz6V2TJ6ho0yUaBsckQ</td>\n",
       "      <td>YFk441mFgnmm9Z5E_X6xjA</td>\n",
       "      <td>7SO_rX1F6rQEl-5s3wZxgQ</td>\n",
       "      <td>5</td>\n",
       "    </tr>\n",
       "    <tr>\n",
       "      <th>47637</th>\n",
       "      <td>GfPg4wBCFbIXIRlbnKH31A</td>\n",
       "      <td>Fr17dFbZ2uUf4TxLN20hvQ</td>\n",
       "      <td>VVeogjZya58oiTxK7qUjAQ</td>\n",
       "      <td>5</td>\n",
       "    </tr>\n",
       "    <tr>\n",
       "      <th>185477</th>\n",
       "      <td>WehCZQtQu96-VL6RawV_BQ</td>\n",
       "      <td>F4B2xXlkHD5UMYELs6hGFw</td>\n",
       "      <td>O_wVKStXEt3rgZc6MjROqA</td>\n",
       "      <td>5</td>\n",
       "    </tr>\n",
       "  </tbody>\n",
       "</table>\n",
       "</div>"
      ],
      "text/plain": [
       "                       user_id               review_id  \\\n",
       "109944  xeEzA63SazODlR6qsf81uw  _oShmRlICA_rGR8hRM8cvg   \n",
       "100066  tSX0aSxqVbQJHsEQswcBgA  zcozfkF_XvCeFAcfh1GYIw   \n",
       "62586   JIHbz6V2TJ6ho0yUaBsckQ  YFk441mFgnmm9Z5E_X6xjA   \n",
       "47637   GfPg4wBCFbIXIRlbnKH31A  Fr17dFbZ2uUf4TxLN20hvQ   \n",
       "185477  WehCZQtQu96-VL6RawV_BQ  F4B2xXlkHD5UMYELs6hGFw   \n",
       "\n",
       "                   business_id  stars  \n",
       "109944  VY_tvNUCCXGXQeSvJl757Q      4  \n",
       "100066  6L9McpPjh3UzZxvR1cf1Lw      5  \n",
       "62586   7SO_rX1F6rQEl-5s3wZxgQ      5  \n",
       "47637   VVeogjZya58oiTxK7qUjAQ      5  \n",
       "185477  O_wVKStXEt3rgZc6MjROqA      5  "
      ]
     },
     "execution_count": 8,
     "metadata": {},
     "output_type": "execute_result"
    }
   ],
   "source": [
    "train.head()"
   ]
  },
  {
   "cell_type": "code",
   "execution_count": 9,
   "metadata": {
    "collapsed": false
   },
   "outputs": [
    {
     "name": "stdout",
     "output_type": "stream",
     "text": [
      "The average rating for a review is 3.804620\n"
     ]
    }
   ],
   "source": [
    "# 3. Calculating mu\n",
    "\n",
    "tot_ratings = 0\n",
    "for index,row in train.iterrows():\n",
    "    tot_ratings += int(row[3])\n",
    "mu = float(tot_ratings) / float(len(train))\n",
    "print \"The average rating for a review is %f\" %mu"
   ]
  },
  {
   "cell_type": "code",
   "execution_count": 10,
   "metadata": {
    "collapsed": false
   },
   "outputs": [
    {
     "name": "stdout",
     "output_type": "stream",
     "text": [
      "Total no. of unique users in the training set = 56724\n"
     ]
    }
   ],
   "source": [
    "# 4. Setting up to calculate Bu\n",
    "user_dict = {}\n",
    "# dict in the form of ['userid',(no. of reviews by the user, sum of all ratings)]\n",
    "\n",
    "for index,row in train.iterrows():    \n",
    "    if row[0] not in user_dict:\n",
    "        user_dict[row[0]] = (1 , int(row[3]))\n",
    "    else:\n",
    "        tup = user_dict[row[0]]\n",
    "        new_tup = (tup[0] + 1 , tup[1] + int(row[3]))\n",
    "        user_dict[row[0]] = new_tup\n",
    "print \"Total no. of unique users in the training set = %d\" % len(user_dict)\n",
    "# A sample entry\n",
    "# print user_dict['t95D1tnWvAOy2sxXnI3GUA']"
   ]
  },
  {
   "cell_type": "code",
   "execution_count": 12,
   "metadata": {
    "collapsed": false
   },
   "outputs": [
    {
     "name": "stdout",
     "output_type": "stream",
     "text": [
      "Total no. of unique restaurants in the training set = 2919\n"
     ]
    }
   ],
   "source": [
    "# 5. Setting up to calclate Bf\n",
    "restr_dict = {}\n",
    "# dict in the form of ['businessid',(no. of ratings for the restaurant, sum of all ratings)]\n",
    "for index,row in train.iterrows():  \n",
    "    if row[2] not in restr_dict:\n",
    "        restr_dict[row[2]] = (1 , int(row[3]))\n",
    "    else:\n",
    "        tup = restr_dict[row[2]]\n",
    "        new_tup = (tup[0] + 1 , tup[1] + int(row[3]))\n",
    "        restr_dict[row[2]] = new_tup\n",
    "print \"Total no. of unique restaurants in the training set = %d\" % len(restr_dict)"
   ]
  },
  {
   "cell_type": "code",
   "execution_count": 13,
   "metadata": {
    "collapsed": false
   },
   "outputs": [
    {
     "name": "stdout",
     "output_type": "stream",
     "text": [
      "3.4411581483\n",
      "3.82454696971\n"
     ]
    }
   ],
   "source": [
    "# Calculating the rating of the avg. restaurant, and avg. user\n",
    "avg_restr_rat = 0\n",
    "avg_user_rat = 0\n",
    "for key in restr_dict:\n",
    "    tup = restr_dict[key]\n",
    "    avg_restr_rat += float(tup[1]) / float(tup[0])\n",
    "avg_restr_rat = avg_restr_rat / len(restr_dict)\n",
    "\n",
    "for key in user_dict:\n",
    "    tup = user_dict[key]\n",
    "    avg_user_rat += float(tup[1]) / float(tup[0])\n",
    "avg_user_rat = avg_user_rat / len(user_dict)\n",
    "\n",
    "print avg_restr_rat\n",
    "print avg_user_rat"
   ]
  },
  {
   "cell_type": "code",
   "execution_count": 15,
   "metadata": {
    "collapsed": false
   },
   "outputs": [
    {
     "name": "stdout",
     "output_type": "stream",
     "text": [
      "Root mean square error for baseline prediction = 1.175559\n",
      "Mean absolute error for baseline prediction = 0.945651\n",
      "RMS Error when you predict mean (mu) for every instance = 1.276848\n",
      "MAE Error when you predict mean (mu) for every instance = 1.035440\n"
     ]
    }
   ],
   "source": [
    "# 6. Calculating RMSE and MAE\n",
    "rmse_par = 0\n",
    "mae_par = 0\n",
    "mu_rms_par = 0\n",
    "mu_mae_par = 0\n",
    "for index,row in test.iterrows():\n",
    "    real_rating = row[3]\n",
    "    \n",
    "    if row[0] in user_dict:\n",
    "        user_tup = user_dict[row[0]]\n",
    "        # mu * 7 added to neutralize outliers\n",
    "        user_avg = ((avg_user_rat * 7) + float(user_tup[1])) / (7 + float(user_tup[0]))\n",
    "        Bu = user_avg - mu\n",
    "    else:\n",
    "        Bu = 0\n",
    "    \n",
    "    if row[2] in restr_dict:\n",
    "        restr_tup = restr_dict[row[2]]\n",
    "        # mu * 20 added to neutralize outliers\n",
    "        restr_avg = ((avg_restr_rat * 20) + float(restr_tup[1])) / (20 + float(restr_tup[0]))\n",
    "        Bf = restr_avg - mu\n",
    "    else:\n",
    "        Bf = 0\n",
    "    \n",
    "    # This is our predicted rating\n",
    "    pred_rating = mu + Bu + Bf\n",
    "    rmse_par += (real_rating - pred_rating) ** 2\n",
    "    mae_par += abs(real_rating - pred_rating)\n",
    "    mu_rms_par += (real_rating - mu) ** 2\n",
    "    mu_mae_par += abs(real_rating - mu)\n",
    "    \n",
    "\n",
    "test_len = len(test)\n",
    "rmse = (rmse_par / test_len) ** 0.5\n",
    "mae = mae_par / test_len\n",
    "mu_err = (mu_rms_par / test_len) ** 0.5\n",
    "mu_abs_err = mu_mae_par / test_len\n",
    "print \"Root mean square error for baseline prediction = %f\" % rmse\n",
    "print \"Mean absolute error for baseline prediction = %f\" % mae\n",
    "print \"RMS Error when you predict mean (mu) for every instance = %f\" % mu_err\n",
    "print \"MAE Error when you predict mean (mu) for every instance = %f\" % mu_abs_err"
   ]
  },
  {
   "cell_type": "code",
   "execution_count": null,
   "metadata": {
    "collapsed": false
   },
   "outputs": [],
   "source": []
  }
 ],
 "metadata": {
  "kernelspec": {
   "display_name": "Python 2",
   "language": "python",
   "name": "python2"
  },
  "language_info": {
   "codemirror_mode": {
    "name": "ipython",
    "version": 2
   },
   "file_extension": ".py",
   "mimetype": "text/x-python",
   "name": "python",
   "nbconvert_exporter": "python",
   "pygments_lexer": "ipython2",
   "version": "2.7.11"
  }
 },
 "nbformat": 4,
 "nbformat_minor": 0
}
