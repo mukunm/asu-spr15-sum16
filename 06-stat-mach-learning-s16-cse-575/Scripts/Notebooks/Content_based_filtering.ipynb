{
 "cells": [
  {
   "cell_type": "code",
   "execution_count": null,
   "metadata": {
    "collapsed": true
   },
   "outputs": [],
   "source": [
    "# All imports go here\n",
    "\n",
    "import numpy as np\n",
    "from numpy import genfromtxt\n",
    "import csv\n",
    "from sklearn import linear_model\n",
    "from sklearn import preprocessing\n",
    "from sklearn.metrics import mean_squared_error\n",
    "from math import sqrt\n",
    "from collections import OrderedDict\n",
    "\n",
    "USER_RESTR_MATRIX_PATH = '../../Data/Input/User_Restr_Matrix.csv'\n",
    "BUSINESS_FEATURE_MATRIX_PATH = '../../Data/Business_Feature_Matrix.csv'\n",
    "PHX_RATING = '../../Data/Input/Phx_Rating.csv'\n",
    "USER_PARAMS_PATH = '../../Data/User_Params.csv'"
   ]
  },
  {
   "cell_type": "code",
   "execution_count": null,
   "metadata": {
    "collapsed": false
   },
   "outputs": [
    {
     "name": "stdout",
     "output_type": "stream",
     "text": [
      "Loading User x Restaurant matrix\n"
     ]
    },
    {
     "ename": "MemoryError",
     "evalue": "",
     "output_type": "error",
     "traceback": [
      "\u001b[1;31m---------------------------------------------------------------------------\u001b[0m",
      "\u001b[1;31mMemoryError\u001b[0m                               Traceback (most recent call last)",
      "\u001b[1;32m<ipython-input-3-c2ae26c3c6cf>\u001b[0m in \u001b[0;36m<module>\u001b[1;34m()\u001b[0m\n\u001b[0;32m      2\u001b[0m \u001b[1;33m\u001b[0m\u001b[0m\n\u001b[0;32m      3\u001b[0m \u001b[1;32mprint\u001b[0m \u001b[1;34m\"Loading User x Restaurant matrix\"\u001b[0m\u001b[1;33m\u001b[0m\u001b[0m\n\u001b[1;32m----> 4\u001b[1;33m \u001b[0mY\u001b[0m \u001b[1;33m=\u001b[0m \u001b[0mgenfromtxt\u001b[0m\u001b[1;33m(\u001b[0m\u001b[0mUSER_RESTR_MATRIX_PATH\u001b[0m\u001b[1;33m,\u001b[0m \u001b[0mdelimiter\u001b[0m\u001b[1;33m=\u001b[0m\u001b[1;34m','\u001b[0m\u001b[1;33m)\u001b[0m\u001b[1;33m\u001b[0m\u001b[0m\n\u001b[0m\u001b[0;32m      5\u001b[0m \u001b[1;32mprint\u001b[0m \u001b[1;34m\"Success! Shape of Y: {}\"\u001b[0m\u001b[1;33m.\u001b[0m\u001b[0mformat\u001b[0m\u001b[1;33m(\u001b[0m\u001b[0mY\u001b[0m\u001b[1;33m.\u001b[0m\u001b[0mshape\u001b[0m\u001b[1;33m)\u001b[0m\u001b[1;33m\u001b[0m\u001b[0m\n",
      "\u001b[1;32mF:\\Programs\\Anaconda\\lib\\site-packages\\numpy\\lib\\npyio.pyc\u001b[0m in \u001b[0;36mgenfromtxt\u001b[1;34m(fname, dtype, comments, delimiter, skiprows, skip_header, skip_footer, converters, missing, missing_values, filling_values, usecols, names, excludelist, deletechars, replace_space, autostrip, case_sensitive, defaultfmt, unpack, usemask, loose, invalid_raise)\u001b[0m\n\u001b[0;32m   1659\u001b[0m         rows = list(\n\u001b[0;32m   1660\u001b[0m             zip(*[[conv._loose_call(_r) for _r in map(itemgetter(i), rows)]\n\u001b[1;32m-> 1661\u001b[1;33m                   for (i, conv) in enumerate(converters)]))\n\u001b[0m\u001b[0;32m   1662\u001b[0m     \u001b[1;32melse\u001b[0m\u001b[1;33m:\u001b[0m\u001b[1;33m\u001b[0m\u001b[0m\n\u001b[0;32m   1663\u001b[0m         rows = list(\n",
      "\u001b[1;31mMemoryError\u001b[0m: "
     ]
    }
   ],
   "source": [
    "# Step 1 : Loading the User x Restaurant matrix. Each element is a rating\n",
    "\n",
    "print \"Loading User x Restaurant matrix\"\n",
    "Y = genfromtxt(USER_RESTR_MATRIX_PATH, delimiter=',')\n",
    "print \"Success! Shape of Y: {}\".format(Y.shape)"
   ]
  },
  {
   "cell_type": "code",
   "execution_count": null,
   "metadata": {
    "collapsed": true
   },
   "outputs": [],
   "source": [
    "# Step 2 : Loading the Restaurant feature matrix\n",
    "\n",
    "print \"Loading User x Restaurant matrix\"\n",
    "X = genfromtxt(BUSINESS_FEATURE_MATRIX_PATH, delimiter=',')\n",
    "print \"Success! Shape of Y: {}\".format(X.shape)"
   ]
  },
  {
   "cell_type": "code",
   "execution_count": null,
   "metadata": {
    "collapsed": true
   },
   "outputs": [],
   "source": [
    "# Separating in validation and test.\n",
    "\n",
    "x, y = int(Y.shape[0]), int(Y.shape[1])\n",
    "count = 0\n",
    "idx = []\n",
    "actual = []\n",
    "print \"Splitting into validation and test\"\n",
    "for i in range(0, x):\n",
    "    for j in range(0, y):\n",
    "        if r[i, j] != 0:\n",
    "            count += 1\n",
    "            if count%5 == 0:\n",
    "        idx.append([i, j])\n",
    "        actual.append(Y[i,j])\n",
    "        Y[i,j] = 0\n",
    "\n",
    "print \"Done\""
   ]
  },
  {
   "cell_type": "code",
   "execution_count": null,
   "metadata": {
    "collapsed": true
   },
   "outputs": [],
   "source": [
    "# Imputing mean values for missing features\n",
    "print \"Imputing missing values\"\n",
    "\n",
    "for i in range(X.shape[1]):\n",
    "    tmp = X[:,i][X[:,i] != -1]\n",
    "    feature_mean = sum(tmp)/len(tmp)\n",
    "    X[:,i][X[:,i] == -1] = feature_mean"
   ]
  },
  {
   "cell_type": "code",
   "execution_count": null,
   "metadata": {
    "collapsed": true
   },
   "outputs": [],
   "source": [
    "# Learning user parameters for the features\n",
    "print \"Learning user params\"\n",
    "user_params = []\n",
    "model = linear_model.SGDRegressor()\n",
    "for i in range(int(Y.shape[0])):\n",
    "    model.fit(X[0], Y[i])\n",
    "    user_params.append(np.asarray(model.coef_))\n",
    "    \n",
    "user_params =  np.asarray(user_params)\n",
    "print \"Printing user params for user 0\"\n",
    "print user_params[0]"
   ]
  },
  {
   "cell_type": "code",
   "execution_count": null,
   "metadata": {
    "collapsed": true
   },
   "outputs": [],
   "source": [
    "# Creating a dictionary of Phoenix users\n",
    "df = pd.read_csv(PHX_RATING)\n",
    "user_dict = {}\n",
    "first = False\n",
    "j = 0\n",
    "\n",
    "# Dictionary format ['user_id', matrix row number]\n",
    "print \"Creating User Dictionary\"\n",
    "for index, row in df.iterrows():\n",
    "    #ignoring 1st row\n",
    "    if first is False:\n",
    "        first = True\n",
    "        continue\n",
    "    if row[0] not in user_dict:\n",
    "        user_dict[j] = row[0]\n",
    "        j = j + 1    \n",
    "\n",
    "print \"Completed: Total no. of unique users = %d\" % len(user_dict)        "
   ]
  },
  {
   "cell_type": "code",
   "execution_count": null,
   "metadata": {
    "collapsed": true
   },
   "outputs": [],
   "source": [
    "# Converting to ordered dict\n",
    "ordered_user_dict = OrderedDict(sorted(user_dict.items(), key=lambda t: t[0]))"
   ]
  },
  {
   "cell_type": "code",
   "execution_count": null,
   "metadata": {
    "collapsed": true
   },
   "outputs": [],
   "source": [
    "# Saving user params to file\n",
    "\n",
    "with open(USER_PARAMS_PATH) as user_params_file:\n",
    "    user_params_writer = csv.writer(user_params_file)\n",
    "    row_num = 0\n",
    "    all_rows = []\n",
    "    for row in user_params.tolist():\n",
    "        all_rows.append(ordered_user_dict[row_num] + row)\n",
    "    print \"Saving user params to file\"\n",
    "    user_params_writer.writerows(all_rows)\n",
    "print \"Done\""
   ]
  },
  {
   "cell_type": "code",
   "execution_count": null,
   "metadata": {
    "collapsed": true
   },
   "outputs": [],
   "source": [
    "# Scale the params between (0-5)\n",
    "\n",
    "print \"Scale the params between (0-5)\"\n",
    "minmaxscaler = preprocessing.MinMaxScaler(feature_range=(0, 5), copy=True)\n",
    "scaled_params = []\n",
    "for i in range(len(user_params)):\n",
    "    temp = user_params[i]\n",
    "    temp = np.array(temp).reshape((len(temp), 1))\n",
    "    scaled_params.append(minmaxscaler.fit_transform(temp).reshape(len(user_params[i],)))\n",
    "scaled_params = np.asarray(scaled_params)\n",
    "\n",
    "#print \"Scaled_params for first user\"\n",
    "#print scaled_params[0]"
   ]
  },
  {
   "cell_type": "code",
   "execution_count": null,
   "metadata": {
    "collapsed": true
   },
   "outputs": [],
   "source": [
    "# Calculate the predicted ratings\n",
    "predicted_ratings= scaled_params.dot(X.T)\n",
    "\n",
    "print \"Predicted ratings for first user\"\n",
    "print predicted_ratings[0]"
   ]
  },
  {
   "cell_type": "code",
   "execution_count": null,
   "metadata": {
    "collapsed": true
   },
   "outputs": [],
   "source": [
    "# Scale the predicted ratings just in case they go above (0-5)\n",
    "\n",
    "scaled_ratings = []\n",
    "for i in range(len(predicted_ratings)):\n",
    "    # Passing 1D array throws warning, hence reshaping the array\n",
    "    temp = predicted_ratings[i]\n",
    "    temp = np.array(temp).reshape((len(temp), 1))\n",
    "    scaled_ratings.append(minmaxscaler.fit_transform(temp).reshape(len(predicted_ratings[i],)))"
   ]
  },
  {
   "cell_type": "code",
   "execution_count": null,
   "metadata": {
    "collapsed": true
   },
   "outputs": [],
   "source": [
    "def getRoundedThreshold(a, MinClip=0.5):\n",
    "    return np.round(np.array(a, dtype=float) / MinClip) * MinClip\n",
    "\n",
    "scaled_ratings = np.asarray(scaled_ratings)\n",
    "rounded_ratings = getRoundedThreshold(scaled_ratings)\n",
    "predicted = []\n",
    "predicted2 = []\n",
    "for i,j in idx:\n",
    "    predicted2.append(rounded_ratings[i, j])\n",
    "    predicted.append(scaled_ratings[i, j])"
   ]
  },
  {
   "cell_type": "code",
   "execution_count": null,
   "metadata": {
    "collapsed": true
   },
   "outputs": [],
   "source": [
    "print \"Actual Ratings: {}\".format(actual[:5])\n",
    "print \"Predicted Ratings: {}\".format(predicted[:5])"
   ]
  },
  {
   "cell_type": "code",
   "execution_count": null,
   "metadata": {
    "collapsed": true
   },
   "outputs": [],
   "source": [
    "# Calculate RMSE\n",
    "\n",
    "rms = sqrt(mean_squared_error(actual, predicted))\n",
    "rms2 = sqrt(mean_squared_error(actual, predicted2))\n",
    "print rms\n",
    "print rms2"
   ]
  }
 ],
 "metadata": {
  "kernelspec": {
   "display_name": "Python 2",
   "language": "python",
   "name": "python2"
  },
  "language_info": {
   "codemirror_mode": {
    "name": "ipython",
    "version": 2
   },
   "file_extension": ".py",
   "mimetype": "text/x-python",
   "name": "python",
   "nbconvert_exporter": "python",
   "pygments_lexer": "ipython2",
   "version": "2.7.11"
  }
 },
 "nbformat": 4,
 "nbformat_minor": 0
}
