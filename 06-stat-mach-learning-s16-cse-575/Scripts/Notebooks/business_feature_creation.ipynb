{
 "cells": [
  {
   "cell_type": "code",
   "execution_count": 13,
   "metadata": {
    "collapsed": true
   },
   "outputs": [],
   "source": [
    "from collections import defaultdict\n",
    "import numpy as np\n",
    "import operator\n",
    "import csv\n",
    "\n",
    "RESTUARANT_PHOENIX_PATH = '../../Data/Input/Restaurants_Phoenix.csv'\n",
    "CUISINE_CSV_PATH = '../../Data/Input/Cuisine_Matrix_Partial.csv'\n",
    "OUTPUT_BUSINESS_FEATURE_CSV_PATH = '../../Data/Business_Feature_Matrix.csv'"
   ]
  },
  {
   "cell_type": "code",
   "execution_count": 5,
   "metadata": {
    "collapsed": false
   },
   "outputs": [
    {
     "name": "stdout",
     "output_type": "stream",
     "text": [
      "Total no. of unique restaurants = 2925\n"
     ]
    }
   ],
   "source": [
    "# 1. Creating a dictionary of Phoenix restaurants\n",
    "phx_business = open(RESTUARANT_PHOENIX_PATH)\n",
    "phx_business_csv = csv.reader(phx_business)\n",
    "phx_business_data = list(phx_business_csv)\n",
    "restr_dict = {}\n",
    "\n",
    "# Dictionary format ['business_id', matrix column number]\n",
    "i = 0\n",
    "header = True\n",
    "while i < len(phx_business_data) - 1:\n",
    "    if header:\n",
    "        header = False\n",
    "        continue\n",
    "    restr_dict[phx_business_data[i + 1][15]] = i\n",
    "    i = i + 1\n",
    "\n",
    "print \"Total no. of unique restaurants = %d\" % len(restr_dict)"
   ]
  },
  {
   "cell_type": "code",
   "execution_count": 6,
   "metadata": {
    "collapsed": true
   },
   "outputs": [],
   "source": [
    "# 2. Order the Phoenix restaurants based on the matrix column number\n",
    "\n",
    "ordered_restr_dict = sorted(restr_dict.items(), key=operator.itemgetter(1))"
   ]
  },
  {
   "cell_type": "code",
   "execution_count": 20,
   "metadata": {
    "collapsed": false
   },
   "outputs": [
    {
     "name": "stdout",
     "output_type": "stream",
     "text": [
      "Success ! Created the feature vector of dimensions 2926 x 22\n"
     ]
    }
   ],
   "source": [
    "# 3. Construct business x cuisine matrix including missing businesses in cuisine_matrix.csv\n",
    "\n",
    "business_cuisines_csv = open(CUISINE_CSV_PATH)\n",
    "reader = csv.reader(business_cuisines_csv)\n",
    "n_cols = 0\n",
    "\n",
    "# cuisine_dict = {'business_id': [feature_vector]}\n",
    "cuisine_dict = defaultdict()\n",
    "header = reader.next()\n",
    "for row in reader:\n",
    "    cuisine_dict[row[0]] = row[1:]\n",
    "    n_cols = len(row[1:])\n",
    "\n",
    "# restr_feature_vector currently holds only cuisine related data as features\n",
    "restr_feature_vector = []\n",
    "restr_feature_vector.append(header)\n",
    "for restaurant in ordered_restr_dict:\n",
    "    try:\n",
    "        features = cuisine_dict[restaurant[0]]\n",
    "        all_features = [restaurant[0]]\n",
    "        for feature in features:\n",
    "            all_features.append(int(feature))\n",
    "    except Exception as e:\n",
    "        all_features = [restaurant[0]] + [0]*n_cols\n",
    "    restr_feature_vector.append(all_features)\n",
    "\n",
    "print \"Success ! Created the feature vector of dimensions {} x {}\".format(len(restr_feature_vector), len(restr_feature_vector[0]))"
   ]
  },
  {
   "cell_type": "code",
   "execution_count": 19,
   "metadata": {
    "collapsed": false
   },
   "outputs": [
    {
     "name": "stdout",
     "output_type": "stream",
     "text": [
      "Writing Restaurant Features to Cuisine_Matrix.csv\n",
      "Done\n"
     ]
    }
   ],
   "source": [
    "# 4. Saving the restr_feature_vector to the csv file\n",
    "\n",
    "with open(OUTPUT_BUSINESS_FEATURE_CSV_PATH, 'wb') as cuisine_csv:\n",
    "    print \"Writing Restaurant Features to Cuisine_Matrix.csv\"\n",
    "    cuisine_writer = csv.writer(cuisine_csv)\n",
    "    cuisine_writer.writerows(restr_feature_vector)\n",
    "\n",
    "print \"Done\"\n",
    " "
   ]
  },
  {
   "cell_type": "code",
   "execution_count": null,
   "metadata": {
    "collapsed": true
   },
   "outputs": [],
   "source": []
  }
 ],
 "metadata": {
  "kernelspec": {
   "display_name": "Python 2",
   "language": "python",
   "name": "python2"
  },
  "language_info": {
   "codemirror_mode": {
    "name": "ipython",
    "version": 2
   },
   "file_extension": ".py",
   "mimetype": "text/x-python",
   "name": "python",
   "nbconvert_exporter": "python",
   "pygments_lexer": "ipython2",
   "version": "2.7.11"
  }
 },
 "nbformat": 4,
 "nbformat_minor": 0
}
