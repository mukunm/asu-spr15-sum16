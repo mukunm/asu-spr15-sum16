{
 "cells": [
  {
   "cell_type": "code",
   "execution_count": 13,
   "metadata": {
    "collapsed": true
   },
   "outputs": [],
   "source": [
    "from collections import defaultdict\n",
    "import numpy as np\n",
    "import operator\n",
    "import csv\n",
    "\n",
    "RESTUARANT_PHOENIX_PATH = '../Data/Input/Restaurants_Phoenix.csv'\n",
    "CUISINE_CSV_PATH = '../Data/Input/Cuisine_Matrix_Partial.csv'\n",
    "OUTPUT_BUSINESS_FEATURE_CSV_PATH = '../Data/Business_Feature_Matrix.csv'"
   ]
  },
  {
   "cell_type": "code",
   "execution_count": 5,
   "metadata": {
    "collapsed": false
   },
   "outputs": [
    {
     "name": "stdout",
     "output_type": "stream",
     "text": [
      "Total no. of unique restaurants = 2925\n"
     ]
    }
   ],
   "source": [
    "# 1. Creating a dictionary of Phoenix restaurants\n",
    "phx_business = open(RESTUARANT_PHOENIX_PATH)\n",
    "phx_business_csv = csv.reader(phx_business)\n",
    "phx_business_data = list(phx_business_csv)\n",
    "restr_dict = {}\n",
    "\n",
    "# Dictionary format ['business_id', matrix column number]\n",
    "i = 0\n",
    "header = True\n",
    "while i < len(phx_business_data) - 1:\n",
    "    if header:\n",
    "        header = False\n",
    "        continue\n",
    "    restr_dict[phx_business_data[i + 1][15]] = i\n",
    "    i = i + 1\n",
    "\n",
    "print \"Total no. of unique restaurants = %d\" % len(restr_dict)"
   ]
  },
  {
   "cell_type": "code",
   "execution_count": 6,
   "metadata": {
    "collapsed": true
   },
   "outputs": [],
   "source": [
    "# 2. Order the Phoenix restaurants based on the matrix column number\n",
    "\n",
    "ordered_restr_dict = sorted(restr_dict.items(), key=operator.itemgetter(1))"
   ]
  },
  {
   "cell_type": "code",
   "execution_count": 18,
   "metadata": {
    "collapsed": false
   },
   "outputs": [
    {
     "name": "stdout",
     "output_type": "stream",
     "text": [
      "'=-lOSaCuBRAvX5JBifx-EMw'\n",
      "'=-AAig9FG0s8gYE4f8GfowQ'\n",
      "'3UMcsN9IjoeV8JZvC4apag'\n",
      "'=-S7aL8dVIiXjCdbTZVn8uA'\n",
      "'=-yPdEze6bYRV2Sm1t4XJhg'\n",
      "'CkQKNhlm8DOzxbXm_zb3bg'\n",
      "'FRDZ59oRvUSs4gf-itOCBg'\n",
      "'=-SS0C3OoPhVVBFCFfDWB2A'\n",
      "'DEEAiq6dqVU8bvtC7VXztA'\n",
      "'dMOdFKdeI7GuZUIq0jwAQg'\n",
      "'=-nHYKkSJuQ7zzFZ1veRfPg'\n",
      "'hxruECjY-r3Y1WBaFcl90g'\n",
      "'=-KZA7UoULw_pM3jBBUzb8A'\n",
      "'DLBRqj-RXzg2QPJko9L7dw'\n",
      "'hx9dmPZZHvLQgEhlAZ-Seg'\n",
      "'r9suhOcuPWLeGeEeHhJZPA'\n",
      "'=-d1I0dwtCg1IIjnI3DZ38Q'\n",
      "'H61Oufiiwyt_ElSrw-WGyA'\n",
      "'YOrKbBFKRFqUjMwNJke2WQ'\n",
      "'2C-LUkc5Y6fhUpJyTNadFg'\n",
      "'nzIJdh8jCuv-uXbQSUmGvw'\n",
      "'=-Ogv7rpcgUHkFaSy3vD8Sw'\n",
      "'=-gefwOTDqW9HWGDvWBPSMQ'\n",
      "'=-mz0Zr0Dw6ZASg7_ah1R8A'\n",
      "'-0QBrNvhrPQCaeo7mTo0zQ'\n",
      "'SBCxhkeiaXdjXECeFn-mtw'\n",
      "'9UO40OsPTdXDl_hR2obOzg'\n",
      "'TOIu2nR0536vGjSP6Ab_Iw'\n",
      "'xWzKjBBAGxq-nbXzTYikyw'\n",
      "'ojCJLdq4pLIvumBdEtxN_Q'\n",
      "'4vjbifZf-JexWlPVwnDAYw'\n",
      "'e_-VhlKn0zYx5a_GAUNPDQ'\n",
      "'ZE4n6W-ppcpv_sF_RH3xOw'\n",
      "'Y2nuyOKrr8Kg9omMghnHWA'\n",
      "'=-KEU36ohRQb19mrbA65Y3Q'\n",
      "'o4hq3viC3_T8mAmZAtvx1A'\n",
      "'WO8I1ab_MLQ-4M1wIEzTag'\n",
      "'=-yzl8Zm-MmSqx31VN7vB0Q'\n",
      "'=-yxfBYGB6SEqszmxJxd97A'\n",
      "'=-zcZNlO0JwZHppan8rGkBQ'\n",
      "'GikgHUUW1L7Nut6Xp0PaTw'\n",
      "'=-hzkQ8YIkExQse3vX0HOcg'\n",
      "'=-sHaV6At__T1RJQXiR6d0g'\n",
      "'=-xBv8p9jzOkMyGlY07FMTA'\n",
      "'hXbt0ZWqK-MuCJJXiNnqpA'\n",
      "'hJD2fGTD5HCFBi3dpQHzVg'\n",
      "'=-f5EhKQb7jPtDl1eYDwV0w'\n",
      "'0xusOkLdNpGZvXmuquFRMg'\n",
      "'JJi5HMpypL3xNB5HjTMeCg'\n",
      "'=-WZIxGXJHMGidZXRhKxP3w'\n",
      "'=-_npP9XdyzILAjtFfX8UAQ'\n",
      "'16orLd_wKfdfh4AxTZu_zQ'\n",
      "'p_Bbe2f1dfZ0iCgdtNieVg'\n",
      "'=-ftQeUsqwDkExRg6IYrubQ'\n",
      "'KBppNZRGyII9fhRXRe__dw'\n",
      "'=-XlBQrxN_ZB3MZKxLBeAjA'\n",
      "'=-sC66z4SO3tR7nFCjfQwuQ'\n",
      "'=-JpZiiGPKOuCEiODGNyovw'\n",
      "'=-aDuOZelvBHWKh-NrXooow'\n",
      "'=-szHsdbd5-J0by2d62T3Hg'\n",
      "'=-q_VodbABJygOSuv86LOtw'\n",
      "'9y69I1eLkcRAPMnzCxHUnQ'\n",
      "'=-vaGR2CXNS4NZrMdctSkGA'\n",
      "'ANeui7NJRkGtrOshX0610w'\n",
      "'=-h-q6zTIdPlkz9BDP11sBg'\n",
      "'=-w0g2HkH2Ncxbs_QDtsf-A'\n",
      "'=-NOet8xJLGhX-eUzSIDc2Q'\n",
      "'6cYe4SUhWhSdOb6UMA4-_A'\n",
      "'=-dy88UgxJPIAkgVPkoNU-w'\n",
      "'=-UT6IHfVW_2yzz1bf8WI5g'\n",
      "'=-HnNSLlmNbesJ7NF5CmgFg'\n",
      "'=-fA9y44FrK8nTRxjyntfTw'\n",
      "'=-TulfYOMTsrqVVvjJRk4Fg'\n",
      "'=-yTdxWCadi8Kn1H05getKQ'\n",
      "'cZutwhWSjiXOQ9_tPD5k4Q'\n",
      "'o8xzAUMAdq08IS-BOEBORQ'\n",
      "'=-MaIpPCz4153Uh1pnzI3AA'\n",
      "'=-hWBlyI2k95yjU-cgwCKJg'\n",
      "'Azczfb5mC4otyyXqjYsuzA'\n",
      "'=-Nc6vbO6nXoefulN1Knl9A'\n",
      "'=-PF0u3x21vsTjmHfEFRQhg'\n",
      "'ODjmGrTHfm1vvnXZrLabow'\n",
      "'=-tKlJDgHrJDkU7EL9c8f3A'\n",
      "'=-PyniZNMQuB5u99nr6dYVw'\n",
      "'=-K5a0_06H7FYRqqiREHjtA'\n",
      "'=-jbHH3mB9SsSDb8nOGvMSw'\n",
      "'=-Dpp6uTdNmVCrX5GGJhk1w'\n",
      "'=-_jLCD1NWODEXfgEAKfUAg'\n",
      "'I7uXE-VzXK3Cp4mvVp7osw'\n",
      "Success ! Created the feature vector of dimensions 2926 x 22\n"
     ]
    }
   ],
   "source": [
    "# 3. Construct business x cuisine matrix including missing businesses in cuisine_matrix.csv\n",
    "\n",
    "business_cuisines_csv = open(CUISINE_CSV_PATH)\n",
    "reader = csv.reader(business_cuisines_csv)\n",
    "n_cols = 0\n",
    "\n",
    "# cuisine_dict = {'business_id': [feature_vector]}\n",
    "cuisine_dict = defaultdict()\n",
    "header = reader.next()\n",
    "for row in reader:\n",
    "    cuisine_dict[row[0]] = row[1:]\n",
    "    n_cols = len(row[1:])\n",
    "\n",
    "# restr_feature_vector currently holds only cuisine related data as features\n",
    "restr_feature_vector = []\n",
    "restr_feature_vector.append(header)\n",
    "for restaurant in ordered_restr_dict:\n",
    "    try:\n",
    "        features = cuisine_dict[restaurant[0]]\n",
    "        all_features = [restaurant[0]]\n",
    "        for feature in features:\n",
    "            all_features.append(int(feature))\n",
    "    except Exception as e:\n",
    "        print e\n",
    "        all_features = [restaurant[0]] + [0]*n_cols\n",
    "    restr_feature_vector.append(all_features)\n",
    "\n",
    "print \"Success ! Created the feature vector of dimensions {} x {}\".format(len(restr_feature_vector), len(restr_feature_vector[0]))"
   ]
  },
  {
   "cell_type": "code",
   "execution_count": 19,
   "metadata": {
    "collapsed": false
   },
   "outputs": [
    {
     "name": "stdout",
     "output_type": "stream",
     "text": [
      "Writing Restaurant Features to Cuisine_Matrix.csv\n",
      "Done\n"
     ]
    }
   ],
   "source": [
    "# 4. Saving the restr_feature_vector to the csv file\n",
    "\n",
    "with open(OUTPUT_BUSINESS_FEATURE_CSV_PATH, 'wb') as cuisine_csv:\n",
    "    print \"Writing Restaurant Features to Cuisine_Matrix.csv\"\n",
    "    cuisine_writer = csv.writer(cuisine_csv)\n",
    "    cuisine_writer.writerows(restr_feature_vector)\n",
    "\n",
    "print \"Done\"\n",
    " "
   ]
  },
  {
   "cell_type": "code",
   "execution_count": null,
   "metadata": {
    "collapsed": true
   },
   "outputs": [],
   "source": []
  }
 ],
 "metadata": {
  "kernelspec": {
   "display_name": "Python 2",
   "language": "python",
   "name": "python2"
  },
  "language_info": {
   "codemirror_mode": {
    "name": "ipython",
    "version": 2
   },
   "file_extension": ".py",
   "mimetype": "text/x-python",
   "name": "python",
   "nbconvert_exporter": "python",
   "pygments_lexer": "ipython2",
   "version": "2.7.11"
  }
 },
 "nbformat": 4,
 "nbformat_minor": 0
}
